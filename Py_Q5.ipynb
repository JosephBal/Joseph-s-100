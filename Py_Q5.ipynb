{
 "cells": [
  {
   "cell_type": "markdown",
   "id": "dd891a2e-3765-419d-85cd-c73bbdc56f63",
   "metadata": {},
   "source": [
    "# Question 5 Level 1\n",
    "\n",
    "Question:\n",
    "Define a class which has at least two methods:\n",
    "\n",
    "getString: to get a string from the console input\n",
    "\n",
    "printString: Print the string in upper case.\n",
    "\n",
    "\n",
    "Also please include a simple test function to test the class methods.\n",
    "\n",
    "Hints:\n",
    "Use __init__ method to construct some parameters"
   ]
  },
  {
   "cell_type": "code",
   "execution_count": 49,
   "id": "c3a3b828-1e1c-4700-92c5-d120066c001f",
   "metadata": {},
   "outputs": [
    {
     "name": "stdin",
     "output_type": "stream",
     "text": [
      "input:  i loved you, why do you not love me\n"
     ]
    },
    {
     "name": "stdout",
     "output_type": "stream",
     "text": [
      "I LOVED YOU, WHY DO YOU NOT LOVE ME\n"
     ]
    }
   ],
   "source": [
    "# Define classes\n",
    "\n",
    "class Q5:\n",
    "    def __init__(self):\n",
    "        self.x = \"\"\n",
    "    def get_str(self):\n",
    "        self.x = input(\"input: \")\n",
    "    def print_str(self):\n",
    "        print(self.x.upper())\n",
    "\n",
    "# Test classes\n",
    "\n",
    "y = Q5()\n",
    "y.get_str()\n",
    "y.print_str()"
   ]
  }
 ],
 "metadata": {
  "kernelspec": {
   "display_name": "Python 3 (ipykernel)",
   "language": "python",
   "name": "python3"
  },
  "language_info": {
   "codemirror_mode": {
    "name": "ipython",
    "version": 3
   },
   "file_extension": ".py",
   "mimetype": "text/x-python",
   "name": "python",
   "nbconvert_exporter": "python",
   "pygments_lexer": "ipython3",
   "version": "3.12.4"
  }
 },
 "nbformat": 4,
 "nbformat_minor": 5
}
