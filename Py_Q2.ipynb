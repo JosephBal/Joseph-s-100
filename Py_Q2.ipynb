{
 "cells": [
  {
   "cell_type": "markdown",
   "id": "4f915ec7-ad33-46f1-aac4-359b64a1d9e8",
   "metadata": {},
   "source": [
    "# Question 2 Level 1\n",
    "\n",
    "Question:\n",
    "\n",
    "Write a program which can compute the factorial of a given numbers.\n",
    "\n",
    "The results should be printed in a comma-separated sequence on a single line.\n",
    "\n",
    "Suppose the following input is supplied to the program:\n",
    "\n",
    "8\n",
    "\n",
    "Then, the output should be:\n",
    "\n",
    "40320\n",
    "\n",
    "Hints:\n",
    "\n",
    "In case of input data being supplied to the question, it should be assumed to be a console input.\n"
   ]
  },
  {
   "cell_type": "code",
   "execution_count": 55,
   "id": "33e3ff47-a6cc-4a2d-b29e-09f16c9f8824",
   "metadata": {},
   "outputs": [
    {
     "name": "stdin",
     "output_type": "stream",
     "text": [
      "Please enter the number you would like to find the factorial of: 8\n"
     ]
    },
    {
     "name": "stdout",
     "output_type": "stream",
     "text": [
      " \n",
      "Answer:\n",
      "the factorial of  8  is  40320\n"
     ]
    }
   ],
   "source": [
    "# Import necessary libraries here\n",
    "import math\n",
    "\n",
    "# Create an input and assign the value to a variable\n",
    "x = input(\"Please enter the number you would like to find the factorial of:\")\n",
    "\n",
    "# Convert string to integer\n",
    "a = int(x)\n",
    "\n",
    "# Assign the factorial of said variable to an output variable\n",
    "y = math.factorial(a)\n",
    "\n",
    "\n",
    "# Print output\n",
    "print(\" \")\n",
    "print(\"Answer:\")\n",
    "print(\"the factorial of \",x,\" is \",y)"
   ]
  },
  {
   "cell_type": "code",
   "execution_count": null,
   "id": "d75de04a-09e8-4505-b626-045871fccd13",
   "metadata": {},
   "outputs": [],
   "source": []
  }
 ],
 "metadata": {
  "kernelspec": {
   "display_name": "Python 3 (ipykernel)",
   "language": "python",
   "name": "python3"
  },
  "language_info": {
   "codemirror_mode": {
    "name": "ipython",
    "version": 3
   },
   "file_extension": ".py",
   "mimetype": "text/x-python",
   "name": "python",
   "nbconvert_exporter": "python",
   "pygments_lexer": "ipython3",
   "version": "3.12.4"
  }
 },
 "nbformat": 4,
 "nbformat_minor": 5
}
