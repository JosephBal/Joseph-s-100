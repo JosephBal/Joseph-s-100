{
 "cells": [
  {
   "cell_type": "markdown",
   "id": "284c4a4d-112a-4362-a99b-ac7a55002546",
   "metadata": {},
   "source": [
    "# Question 9 Level 2\n",
    "\n",
    "Question:\n",
    "\n",
    "Write a program that accepts sequence of lines as input and prints the lines after making all characters in the sentence capitalized.\n",
    "\n",
    "Suppose the following input is supplied to the program:\n",
    "\n",
    "Hello world\n",
    "Practice makes perfect\n",
    "\n",
    "Then, the output should be:\n",
    "\n",
    "HELLO WORLD\n",
    "PRACTICE MAKES PERFECT\n",
    "\n",
    "Hints:\n",
    "In case of input data being supplied to the question, it should be assumed to be a console input.\n"
   ]
  },
  {
   "cell_type": "code",
   "execution_count": 27,
   "id": "831ed497-f0c4-4f06-a950-e1078692ee11",
   "metadata": {},
   "outputs": [
    {
     "name": "stdin",
     "output_type": "stream",
     "text": [
      "input: y\n",
      "input: \n"
     ]
    },
    {
     "name": "stdout",
     "output_type": "stream",
     "text": [
      "Y\n"
     ]
    }
   ],
   "source": [
    "# Develop input system for the sequence of lines\n",
    "\n",
    "fxck =[]\n",
    "while True:\n",
    "    x = input(\"input:\")\n",
    "    y = 0\n",
    "    if x:\n",
    "        fxck.append(x.upper())\n",
    "    elif y:\n",
    "        print(\" \")\n",
    "    else:\n",
    "        break;\n",
    "\n",
    "# Print output\n",
    "for sentence in fxck:\n",
    "    print(sentence)\n"
   ]
  },
  {
   "cell_type": "code",
   "execution_count": null,
   "id": "ed63506d-e61b-48d0-85af-6f7c636ff808",
   "metadata": {},
   "outputs": [],
   "source": []
  }
 ],
 "metadata": {
  "kernelspec": {
   "display_name": "Python 3 (ipykernel)",
   "language": "python",
   "name": "python3"
  },
  "language_info": {
   "codemirror_mode": {
    "name": "ipython",
    "version": 3
   },
   "file_extension": ".py",
   "mimetype": "text/x-python",
   "name": "python",
   "nbconvert_exporter": "python",
   "pygments_lexer": "ipython3",
   "version": "3.12.4"
  }
 },
 "nbformat": 4,
 "nbformat_minor": 5
}
