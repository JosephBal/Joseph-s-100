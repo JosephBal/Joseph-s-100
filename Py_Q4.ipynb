{
 "cells": [
  {
   "cell_type": "markdown",
   "id": "2d855e39-2735-496b-ade3-819a737b9041",
   "metadata": {},
   "source": [
    "# Question 4 Level 1\n",
    "\n",
    "Question:\n",
    "Write a program which accepts a sequence of comma-separated numbers from console and generate a list and a tuple which contains every number.\n",
    "Suppose the following input is supplied to the program:\n",
    "34,67,55,33,12,98\n",
    "Then, the output should be:\n",
    "['34', '67', '55', '33', '12', '98']\n",
    "('34', '67', '55', '33', '12', '98')\n",
    "\n",
    "Hints:\n",
    "In case of input data being supplied to the question, it should be assumed to be a console input.\n",
    "tuple() method can convert list to tuple\n"
   ]
  },
  {
   "cell_type": "code",
   "execution_count": 13,
   "id": "36de9798-254b-4da3-ba0c-eb6cbc945699",
   "metadata": {},
   "outputs": [
    {
     "name": "stdin",
     "output_type": "stream",
     "text": [
      "Input values here (use commas to separate values):  35,64,8743,53\n"
     ]
    },
    {
     "name": "stdout",
     "output_type": "stream",
     "text": [
      "\n",
      "Here's the list:  ['35', '64', '8743', '53']\n",
      "Here's the Tuple:  ('35', '64', '8743', '53')\n"
     ]
    }
   ],
   "source": [
    "# Import necessary libraries here\n",
    "\n",
    "import pandas as pd\n",
    "\n",
    "# Input CSV\n",
    "\n",
    "x = input(\"Input values here (use commas to separate values): \")\n",
    "\n",
    "# Generate list from CSV\n",
    "\n",
    "y = x.split(\",\")\n",
    "\n",
    "# Generate Tuple\n",
    "\n",
    "z = tuple(y)\n",
    "\n",
    "# Print Output\n",
    "\n",
    "print(\"\")\n",
    "print(\"Here's the list: \",y)\n",
    "print(\"Here's the Tuple: \",z)"
   ]
  }
 ],
 "metadata": {
  "kernelspec": {
   "display_name": "Python 3 (ipykernel)",
   "language": "python",
   "name": "python3"
  },
  "language_info": {
   "codemirror_mode": {
    "name": "ipython",
    "version": 3
   },
   "file_extension": ".py",
   "mimetype": "text/x-python",
   "name": "python",
   "nbconvert_exporter": "python",
   "pygments_lexer": "ipython3",
   "version": "3.12.4"
  }
 },
 "nbformat": 4,
 "nbformat_minor": 5
}
