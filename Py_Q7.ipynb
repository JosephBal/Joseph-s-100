{
 "cells": [
  {
   "cell_type": "markdown",
   "id": "b50c9b4e-7f06-435b-8b46-205d123789e2",
   "metadata": {},
   "source": [
    "# Question 7 Level 2\n",
    "\n",
    "Question:\n",
    "\n",
    "Write a program which takes 2 digits, X,Y as input and generates a 2-dimensional array. The element value in the i-th row and j-th column of the array should be i*j.\n",
    "\n",
    "Note: i=0,1.., X-1; j=0,1,¡­Y-1.\n",
    "\n",
    "Example\n",
    "\n",
    "Suppose the following inputs are given to the program:\n",
    "\n",
    "3,5\n",
    "\n",
    "Then, the output of the program should be:\n",
    "\n",
    "[[0, 0, 0, 0, 0], [0, 1, 2, 3, 4], [0, 2, 4, 6, 8]] \n",
    "\n",
    "Hints:\n",
    "\n",
    "Note: In case of input data being supplied to the question, it should be assumed to be a console input in a comma-separated form."
   ]
  },
  {
   "cell_type": "code",
   "execution_count": 19,
   "id": "c961bed3-ce9c-4264-8026-63093d9bc48c",
   "metadata": {},
   "outputs": [
    {
     "name": "stdin",
     "output_type": "stream",
     "text": [
      "how many Rows? 3\n",
      "How many Columns? 3\n",
      "Enter the fill value:  9\n"
     ]
    },
    {
     "name": "stdout",
     "output_type": "stream",
     "text": [
      " \n",
      "[[9 9 9]\n",
      " [9 9 9]\n",
      " [9 9 9]]\n"
     ]
    }
   ],
   "source": [
    "# Import necessary libraries\n",
    "\n",
    "import numpy as np\n",
    "\n",
    "# Define variables\n",
    "\n",
    "x = int(float(input(\"how many Rows?\")))      # Rows\n",
    "y = int(float(input(\"How many Columns?\")))   # Columns\n",
    "fill_value = int(input(\"Enter the fill value: \")) # a single integer to fill the array\n",
    "\n",
    "# combine variables into an array\n",
    "\n",
    "z = np.full((x,y),fill_value)\n",
    "\n",
    "# Output\n",
    "\n",
    "print(\" \")\n",
    "print(z)"
   ]
  },
  {
   "cell_type": "code",
   "execution_count": 33,
   "id": "8d1573c0-b340-4b6a-852c-d24cd211d750",
   "metadata": {},
   "outputs": [
    {
     "name": "stdin",
     "output_type": "stream",
     "text": [
      "input rows & columns (',' seperated): 5,5\n"
     ]
    },
    {
     "name": "stdout",
     "output_type": "stream",
     "text": [
      "[[0, 0, 0, 0, 0], [0, 1, 2, 3, 4], [0, 2, 4, 6, 8], [0, 3, 6, 9, 12], [0, 4, 8, 12, 16]]\n"
     ]
    }
   ],
   "source": [
    "# Method 2\n",
    "# Define variables\n",
    "\n",
    "z = input(\"input rows & columns (',' seperated):\")\n",
    "\n",
    "# Create array\n",
    "\n",
    "dimensions = [int(i) for i in z.split(',')]\n",
    "x = dimensions[0]\n",
    "y = dimensions[1]\n",
    "array = [[0 for col in range(y)] for row in range(x)]\n",
    "\n",
    "for row in range(x):\n",
    "    for col in range(y):\n",
    "        array[row][col] = row*col\n",
    "\n",
    "# Output\n",
    "        \n",
    "print(array)"
   ]
  }
 ],
 "metadata": {
  "kernelspec": {
   "display_name": "Python 3 (ipykernel)",
   "language": "python",
   "name": "python3"
  },
  "language_info": {
   "codemirror_mode": {
    "name": "ipython",
    "version": 3
   },
   "file_extension": ".py",
   "mimetype": "text/x-python",
   "name": "python",
   "nbconvert_exporter": "python",
   "pygments_lexer": "ipython3",
   "version": "3.12.4"
  }
 },
 "nbformat": 4,
 "nbformat_minor": 5
}
