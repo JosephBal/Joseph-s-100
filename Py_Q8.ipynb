{
 "cells": [
  {
   "cell_type": "markdown",
   "id": "ebe7139a-a2aa-4192-a385-fb1f87de1630",
   "metadata": {},
   "source": [
    "# Question 8 Level 2\n",
    "\n",
    "Question:\n",
    "\n",
    "Write a program that accepts a comma separated sequence of words as input and prints the words in a comma-separated sequence after sorting them alphabetically.\n",
    "\n",
    "Suppose the following input is supplied to the program:\n",
    "\n",
    "without,hello,bag,world\n",
    "\n",
    "Then, the output should be:\n",
    "\n",
    "bag,hello,without,world\n",
    "\n",
    "Hints:\n",
    "In case of input data being supplied to the question, it should be assumed to be a console input.\n"
   ]
  },
  {
   "cell_type": "code",
   "execution_count": 22,
   "id": "62b5556d-63bb-4e64-917e-ab16922ece9a",
   "metadata": {},
   "outputs": [
    {
     "name": "stdin",
     "output_type": "stream",
     "text": [
      "input comma separated words: apple, white, shiro, inu, cat\n"
     ]
    },
    {
     "name": "stdout",
     "output_type": "stream",
     "text": [
      "apple, white, shiro, inu, cat\n"
     ]
    }
   ],
   "source": [
    "# Input for line\n",
    "\n",
    "words = [x for x in input(\"input comma separated words:\").split(\",\")]\n",
    "words.sort\n",
    "\n",
    "# Output\n",
    "\n",
    "print(\",\".join(words))"
   ]
  }
 ],
 "metadata": {
  "kernelspec": {
   "display_name": "Python 3 (ipykernel)",
   "language": "python",
   "name": "python3"
  },
  "language_info": {
   "codemirror_mode": {
    "name": "ipython",
    "version": 3
   },
   "file_extension": ".py",
   "mimetype": "text/x-python",
   "name": "python",
   "nbconvert_exporter": "python",
   "pygments_lexer": "ipython3",
   "version": "3.12.4"
  }
 },
 "nbformat": 4,
 "nbformat_minor": 5
}
