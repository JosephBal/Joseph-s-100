{
 "cells": [
  {
   "cell_type": "markdown",
   "id": "3c9ab0d4-d4dc-436a-beec-8b1c51ff4f45",
   "metadata": {},
   "source": [
    "\n",
    "# Question 3 Level 1\n",
    "\n",
    "Question:\n",
    "With a given integral number n, write a program to generate a dictionary that contains (i, i*i) such that is an integral number between 1 and n (both included). and then the program should print the dictionary.\n",
    "Suppose the following input is supplied to the program:\n",
    "8\n",
    "Then, the output should be:\n",
    "{1: 1, 2: 4, 3: 9, 4: 16, 5: 25, 6: 36, 7: 49, 8: 64}\n",
    "\n",
    "Hints:\n",
    "In case of input data being supplied to the question, it should be assumed to be a console input.\n",
    "Consider use dict()\n"
   ]
  },
  {
   "cell_type": "code",
   "execution_count": 67,
   "id": "2927b30f-c030-462f-9496-58d5d157d04c",
   "metadata": {},
   "outputs": [
    {
     "name": "stdin",
     "output_type": "stream",
     "text": [
      "input value here:  8\n"
     ]
    },
    {
     "name": "stdout",
     "output_type": "stream",
     "text": [
      " \n",
      "Your dictionary: {  1:1, 2:4, 3:9, 4:16, 5:25, 6:36, 7:49, 8:64 }\n"
     ]
    }
   ],
   "source": [
    "# Assign value to n & Convert str into int\n",
    "\n",
    "n = int(input(\"input value here: \"))\n",
    "\n",
    "# Create dictionary\n",
    "\n",
    "x = dict()\n",
    "\n",
    "# Create for loop here\n",
    "\n",
    "for i in range(1,n+1):\n",
    "        x[i] = i*i\n",
    "\n",
    "#Trim unnecessary spaces\n",
    "\n",
    "y = ','.join(f' {key}:{value}' for (key, value) in x.items())\n",
    "\n",
    "# print dictionary\n",
    "\n",
    "print(\" \")\n",
    "print(\"Your dictionary: {\",y,\"}\")\n"
   ]
  },
  {
   "cell_type": "code",
   "execution_count": null,
   "id": "3162dcdc-55d4-4a34-b9bc-cc4b45a67c15",
   "metadata": {},
   "outputs": [],
   "source": []
  }
 ],
 "metadata": {
  "kernelspec": {
   "display_name": "Python 3 (ipykernel)",
   "language": "python",
   "name": "python3"
  },
  "language_info": {
   "codemirror_mode": {
    "name": "ipython",
    "version": 3
   },
   "file_extension": ".py",
   "mimetype": "text/x-python",
   "name": "python",
   "nbconvert_exporter": "python",
   "pygments_lexer": "ipython3",
   "version": "3.12.4"
  }
 },
 "nbformat": 4,
 "nbformat_minor": 5
}
